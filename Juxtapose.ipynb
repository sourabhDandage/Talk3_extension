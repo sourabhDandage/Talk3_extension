{
 "cells": [
  {
   "cell_type": "code",
   "execution_count": null,
   "metadata": {},
   "outputs": [],
   "source": [
    "import pandas as pd\n",
    "import scipy.stats"
   ]
  },
  {
   "cell_type": "markdown",
   "metadata": {},
   "source": [
    "###### Nouns"
   ]
  },
  {
   "cell_type": "code",
   "execution_count": null,
   "metadata": {},
   "outputs": [],
   "source": [
    "with open('data/nouns_twitter.json', 'r') as fh:\n",
    "    nouns_twitter = pd.read_json(fh.read(), typ='series')\n",
    "    nouns_twitter.name = \"twitter\"\n",
    "\n",
    "with open('data/nouns_tt.json', 'r') as fh:\n",
    "    nouns_tt = pd.read_json(fh.read(), typ='series')\n",
    "    nouns_tt.name = \"tt\""
   ]
  },
  {
   "cell_type": "code",
   "execution_count": null,
   "metadata": {},
   "outputs": [],
   "source": [
    "noun_df = pd.concat([nouns_twitter, nouns_tt], axis=1).fillna(0)"
   ]
  },
  {
   "cell_type": "code",
   "execution_count": null,
   "metadata": {},
   "outputs": [],
   "source": [
    "sum_twitter = nouns_twitter.sum()\n",
    "sum_twitter"
   ]
  },
  {
   "cell_type": "code",
   "execution_count": null,
   "metadata": {},
   "outputs": [],
   "source": [
    "len(nouns_twitter.index)"
   ]
  },
  {
   "cell_type": "code",
   "execution_count": null,
   "metadata": {},
   "outputs": [],
   "source": [
    "sum_tt = nouns_tt.sum()\n",
    "sum_tt"
   ]
  },
  {
   "cell_type": "code",
   "execution_count": null,
   "metadata": {},
   "outputs": [],
   "source": [
    "len(nouns_tt.index)"
   ]
  },
  {
   "cell_type": "code",
   "execution_count": null,
   "metadata": {},
   "outputs": [],
   "source": [
    "noun_df[\"sum\"] = noun_df[\"twitter\"] + noun_df[\"tt\"]"
   ]
  },
  {
   "cell_type": "code",
   "execution_count": null,
   "metadata": {},
   "outputs": [],
   "source": [
    "noun_df = noun_df.sort_values(by='twitter', ascending=False)"
   ]
  },
  {
   "cell_type": "code",
   "execution_count": null,
   "metadata": {},
   "outputs": [],
   "source": [
    "noun_df"
   ]
  },
  {
   "cell_type": "code",
   "execution_count": null,
   "metadata": {},
   "outputs": [],
   "source": [
    "scipy.stats.wilcoxon(noun_df[\"twitter\"].values[:100], noun_df[\"tt\"].values[:100], zero_method=\"pratt\")"
   ]
  },
  {
   "cell_type": "markdown",
   "metadata": {},
   "source": [
    "###### Adjectives"
   ]
  },
  {
   "cell_type": "code",
   "execution_count": null,
   "metadata": {},
   "outputs": [],
   "source": [
    "with open('data/adjectives_twitter.json', 'r') as fh:\n",
    "    adjectives_twitter = pd.read_json(fh.read(), typ='series')\n",
    "    adjectives_twitter.name = \"twitter\"\n",
    "\n",
    "with open('data/adjectives_tt.json', 'r') as fh:\n",
    "    adjectives_tt = pd.read_json(fh.read(), typ='series')\n",
    "    adjectives_tt.name = \"tt\""
   ]
  },
  {
   "cell_type": "code",
   "execution_count": null,
   "metadata": {},
   "outputs": [],
   "source": [
    "adjectives_df = pd.concat([adjectives_twitter, adjectives_tt], axis=1).fillna(0)"
   ]
  },
  {
   "cell_type": "code",
   "execution_count": null,
   "metadata": {},
   "outputs": [],
   "source": [
    "sum_twitter = adjectives_twitter.sum()\n",
    "sum_twitter"
   ]
  },
  {
   "cell_type": "code",
   "execution_count": null,
   "metadata": {},
   "outputs": [],
   "source": [
    "len(adjectives_twitter.index)"
   ]
  },
  {
   "cell_type": "code",
   "execution_count": null,
   "metadata": {},
   "outputs": [],
   "source": [
    "sum_tt = adjectives_tt.sum()\n",
    "sum_tt"
   ]
  },
  {
   "cell_type": "code",
   "execution_count": null,
   "metadata": {},
   "outputs": [],
   "source": [
    "len(adjectives_tt.index)"
   ]
  },
  {
   "cell_type": "code",
   "execution_count": null,
   "metadata": {},
   "outputs": [],
   "source": [
    "adjectives_df[\"sum\"] = adjectives_df[\"twitter\"] + adjectives_df[\"tt\"]"
   ]
  },
  {
   "cell_type": "code",
   "execution_count": null,
   "metadata": {},
   "outputs": [],
   "source": [
    "adjectives_df = adjectives_df.sort_values(by='twitter', ascending=False)\n",
    "adjectives_df"
   ]
  },
  {
   "cell_type": "code",
   "execution_count": null,
   "metadata": {},
   "outputs": [],
   "source": [
    "scipy.stats.wilcoxon(adjectives_df[\"twitter\"].values[:100], adjectives_df[\"tt\"].values[:100], zero_method=\"pratt\")"
   ]
  },
  {
   "cell_type": "markdown",
   "metadata": {},
   "source": [
    "###### Treatments"
   ]
  },
  {
   "cell_type": "code",
   "execution_count": null,
   "metadata": {},
   "outputs": [],
   "source": [
    "with open('data/treatments_twitter.json', 'r') as fh:\n",
    "    treatments_twitter = pd.read_json(fh.read(), typ='series')\n",
    "    treatments_twitter.name = \"twitter\"\n",
    "\n",
    "with open('data/treatments_tt.json', 'r') as fh:\n",
    "    treatments_tt = pd.read_json(fh.read(), typ='series')\n",
    "    treatments_tt.name = \"tt\""
   ]
  },
  {
   "cell_type": "code",
   "execution_count": null,
   "metadata": {},
   "outputs": [],
   "source": [
    "treatments_df = pd.concat([treatments_twitter, treatments_tt], axis=1).fillna(0)"
   ]
  },
  {
   "cell_type": "code",
   "execution_count": null,
   "metadata": {},
   "outputs": [],
   "source": [
    "sum_twitter = treatments_twitter.sum()\n",
    "sum_twitter"
   ]
  },
  {
   "cell_type": "code",
   "execution_count": null,
   "metadata": {},
   "outputs": [],
   "source": [
    "sum_tt = treatments_tt.sum()\n",
    "sum_tt"
   ]
  },
  {
   "cell_type": "code",
   "execution_count": null,
   "metadata": {},
   "outputs": [],
   "source": [
    "treatments_df[\"sum\"] = treatments_df[\"twitter\"] + treatments_df[\"tt\"]"
   ]
  },
  {
   "cell_type": "code",
   "execution_count": null,
   "metadata": {},
   "outputs": [],
   "source": [
    "treatments_df = treatments_df.sort_values(by='sum', ascending=False)"
   ]
  },
  {
   "cell_type": "code",
   "execution_count": null,
   "metadata": {},
   "outputs": [],
   "source": []
  },
  {
   "cell_type": "code",
   "execution_count": null,
   "metadata": {},
   "outputs": [],
   "source": [
    "scipy.stats.wilcoxon(treatments_df[\"twitter\"].values[:100], treatments_df[\"tt\"].values[:100], zero_method=\"pratt\")"
   ]
  },
  {
   "cell_type": "code",
   "execution_count": null,
   "metadata": {},
   "outputs": [],
   "source": []
  }
 ],
 "metadata": {
  "kernelspec": {
   "display_name": "Python 3",
   "language": "python",
   "name": "python3"
  },
  "language_info": {
   "codemirror_mode": {
    "name": "ipython",
    "version": 3
   },
   "file_extension": ".py",
   "mimetype": "text/x-python",
   "name": "python",
   "nbconvert_exporter": "python",
   "pygments_lexer": "ipython3",
   "version": "3.5.2"
  }
 },
 "nbformat": 4,
 "nbformat_minor": 2
}
