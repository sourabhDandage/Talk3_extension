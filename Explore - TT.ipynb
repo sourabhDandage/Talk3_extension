{
 "cells": [
  {
   "cell_type": "code",
   "execution_count": null,
   "metadata": {},
   "outputs": [],
   "source": [
    "import pandas\n",
    "import itertools as it\n",
    "import string\n",
    "from collections import Counter\n",
    "import json\n",
    "import re\n",
    "import numpy\n",
    "import nltk\n",
    "import spacy"
   ]
  },
  {
   "cell_type": "markdown",
   "metadata": {},
   "source": [
    "##### Load Sentence Splitting and POS Tag Models"
   ]
  },
  {
   "cell_type": "code",
   "execution_count": null,
   "metadata": {},
   "outputs": [],
   "source": [
    "sentence_detector = nltk.data.load('tokenizers/punkt/english.pickle')"
   ]
  },
  {
   "cell_type": "code",
   "execution_count": null,
   "metadata": {},
   "outputs": [],
   "source": [
    "spacy_nlp = spacy.load(\"en_core_web_lg\")"
   ]
  },
  {
   "cell_type": "markdown",
   "metadata": {},
   "source": [
    "##### Define various helper functions"
   ]
  },
  {
   "cell_type": "code",
   "execution_count": null,
   "metadata": {},
   "outputs": [],
   "source": [
    "def normalise(text):\n",
    "    \n",
    "    text = text.lower()\n",
    "    text = text.replace(\"\\n\", \" \")\n",
    "    text = re.sub(r\"https?:\\/\\/\\S+\\b|www\\.(\\w+\\.)+\\S*\", \" <url> \", text)\n",
    "    text = text.replace(\"/\", \" / \")\n",
    "    text = re.sub(r\"@\\w+\", \" <user> \", text)\n",
    "    text = re.sub(r\"[8:=;]['`\\-][)d]+|[)d]+['`\\-][8:=;]\", \" <smile> \", text)\n",
    "    text = re.sub(r\"[8:=;]['`\\-]p+\", \" <lolface> \", text)\n",
    "    text = re.sub(r\"[8:=;]['`\\-]\\(+|\\)+['`\\-][8:=;]\", \" <sadface> \", text)\n",
    "    text = re.sub(r\"[8:=;]['`\\-][\\/|l*]\", \" <neutralface> \", text)\n",
    "    text = text.replace(r\"<3\", \" <heart> \")\n",
    "    text = re.sub(r\"[-+]?[.\\d]*[\\d]+[:,.\\d]*\", \" <number> \", text)\n",
    "    text = text.replace(r\"#\", \" <hashtag> \")\n",
    "    text = re.sub(r\"([!?.,()])+\", r\" \\1 \", text)\n",
    "    \n",
    "    return text"
   ]
  },
  {
   "cell_type": "code",
   "execution_count": null,
   "metadata": {},
   "outputs": [],
   "source": [
    "def tokenise(text):\n",
    "    return tuple([t.strip() for t in text.strip().split()])"
   ]
  },
  {
   "cell_type": "code",
   "execution_count": null,
   "metadata": {},
   "outputs": [],
   "source": [
    "def sentence_splitting(text):\n",
    "    return sentence_detector.tokenize(text)"
   ]
  },
  {
   "cell_type": "code",
   "execution_count": null,
   "metadata": {},
   "outputs": [],
   "source": [
    "def parse_treatment_definitons(definion_file):\n",
    "    treatment_set = set()\n",
    "    treatment_mapping = {}\n",
    "    max_length = 1\n",
    "    for line in definion_file:\n",
    "        line = line.strip()\n",
    "        treatments = line.split(',')\n",
    "        name = treatments[0]\n",
    "        for treatment in treatments:\n",
    "            treatment = tuple(tokenise(normalise(treatment)))\n",
    "            max_length = max(len(treatment), max_length)\n",
    "            treatment_set.add(treatment)\n",
    "            treatment_mapping[treatment] = name\n",
    "    return treatment_set, treatment_mapping, max_length"
   ]
  },
  {
   "cell_type": "code",
   "execution_count": null,
   "metadata": {},
   "outputs": [],
   "source": [
    "def window_sliding(iterable, n):\n",
    "    gens = (\n",
    "        it.chain(it.repeat(None, n - 1 - i), iterable, it.repeat(None, i))\n",
    "        for i, gen in enumerate(it.tee(iterable, n)))\n",
    "    return list(zip(*gens))\n",
    "\n",
    "def find_treatments(tokens):\n",
    "    found_treatments = []\n",
    "    for x in range(max_treatment_length, 0, -1):\n",
    "        for window in window_sliding(tokens, x):\n",
    "            if tuple(window) in treatment_set:\n",
    "                found_treatments.append(treatment_mapping[tuple(window)])\n",
    "    return list(set(found_treatments))"
   ]
  },
  {
   "cell_type": "code",
   "execution_count": null,
   "metadata": {},
   "outputs": [],
   "source": [
    "treatment_set, treatment_mapping, max_treatment_length = parse_treatment_definitons(open(\"data/treatment_definitons.txt\", 'r'))"
   ]
  },
  {
   "cell_type": "code",
   "execution_count": null,
   "metadata": {},
   "outputs": [],
   "source": [
    "def get_mapped_treatments(df):\n",
    "    treatments = None\n",
    "    merged_sentence = []\n",
    "    for sent in (df[0], df[1], df[2]):\n",
    "        if not sent:\n",
    "            break\n",
    "        tokens = tokenise(sent)\n",
    "        mapped_treatments = find_treatments(tokens)\n",
    "        if not mapped_treatments:\n",
    "            break\n",
    "        if treatments is None:\n",
    "            treatments = mapped_treatments\n",
    "            merged_sentence.append(sent)\n",
    "        else:\n",
    "            if set(mapped_treatments) - set(treatments):\n",
    "                break\n",
    "            merged_sentence.append(sent)\n",
    "    df[\"treatments\"] = treatments\n",
    "    df[\"merged_sentence\"] = \" \".join(merged_sentence)\n",
    "    return df"
   ]
  },
  {
   "cell_type": "code",
   "execution_count": null,
   "metadata": {},
   "outputs": [],
   "source": [
    "def filter_stopwords(tokens):\n",
    "    return [t for t in tokens if len(t) > 2 and t not in stopwords]"
   ]
  },
  {
   "cell_type": "code",
   "execution_count": null,
   "metadata": {},
   "outputs": [],
   "source": [
    "def calculate_embeddings(tokens):\n",
    "    token_embdgs = [embeddings.get(t) for t in tokens]\n",
    "    token_embdgs = [t for t in token_embdgs if t is not None]\n",
    "    return numpy.mean(token_embdgs, axis=0)"
   ]
  },
  {
   "cell_type": "code",
   "execution_count": null,
   "metadata": {},
   "outputs": [],
   "source": [
    "def add_pos_tags(df):\n",
    "    tokens = []\n",
    "    pos = []\n",
    "    tag = []\n",
    "\n",
    "    for doc in spacy_nlp.pipe(df['text'].astype('unicode').values, batch_size=50, n_threads=3):\n",
    "        if doc.is_parsed:\n",
    "            tokens.append([n.text for n in doc])\n",
    "            pos.append([n.pos_ for n in doc])\n",
    "            tag.append([n.tag_ for n in doc])\n",
    "        else:\n",
    "            tokens.append(None)\n",
    "            pos.append(None)\n",
    "            tag.append(None)\n",
    "\n",
    "    df['tokens'] = tokens\n",
    "    df['pos'] = pos\n",
    "    df['tag'] = tag\n",
    "    return df"
   ]
  },
  {
   "cell_type": "markdown",
   "metadata": {},
   "source": [
    "##### Load posts into dataframe, do basic normalisations"
   ]
  },
  {
   "cell_type": "code",
   "execution_count": null,
   "metadata": {},
   "outputs": [],
   "source": [
    "with open('data/tinnitustalk_posts_filtered.csv', 'r') as fh:\n",
    "    df = pandas.read_csv(fh, parse_dates=[\"timestamp\"])"
   ]
  },
  {
   "cell_type": "code",
   "execution_count": null,
   "metadata": {},
   "outputs": [],
   "source": [
    "df = df.loc[df['text'].notnull()]"
   ]
  },
  {
   "cell_type": "code",
   "execution_count": null,
   "metadata": {},
   "outputs": [],
   "source": [
    "df[\"text\"] = df[\"text\"].apply(lambda x: normalise(x.replace(\"\\n\", \" \")))"
   ]
  },
  {
   "cell_type": "markdown",
   "metadata": {},
   "source": [
    "##### Get, count and export POS-Tags"
   ]
  },
  {
   "cell_type": "code",
   "execution_count": null,
   "metadata": {},
   "outputs": [],
   "source": [
    "df = add_pos_tags(df)"
   ]
  },
  {
   "cell_type": "code",
   "execution_count": null,
   "metadata": {},
   "outputs": [],
   "source": [
    "noun_tags = {\"NN\", \"NNS\", \"NNP\", \"NNPS\"}\n",
    "adj_tags = {\"JJ\", \"JJR\", \"JJS\"}\n",
    "nouns = Counter()\n",
    "adjectives = Counter()\n",
    "for _, row in df.iterrows():\n",
    "    tokens = row[\"tokens\"]\n",
    "    tags = row[\"tag\"]\n",
    "    for cnt, tag in enumerate(tags):\n",
    "        if tag in noun_tags:\n",
    "            nouns[tokens[cnt]] += 1\n",
    "        if tag in adj_tags:\n",
    "            adjectives[tokens[cnt]] += 1"
   ]
  },
  {
   "cell_type": "code",
   "execution_count": null,
   "metadata": {},
   "outputs": [],
   "source": [
    "with open(\"data/nouns_tt.json\", 'w') as fh:\n",
    "    json.dump(nouns, fh)\n",
    "with open(\"data/adjectives_tt.json\", 'w') as fh:\n",
    "    json.dump(adjectives, fh)"
   ]
  },
  {
   "cell_type": "markdown",
   "metadata": {},
   "source": [
    "##### Split into sentences, explode the dataframe to have one row per sentence instead of post"
   ]
  },
  {
   "cell_type": "code",
   "execution_count": null,
   "metadata": {},
   "outputs": [],
   "source": [
    "df[\"sentences\"] = df[\"text\"].apply(lambda x: window_sliding(sentence_splitting(x), 3))"
   ]
  },
  {
   "cell_type": "code",
   "execution_count": null,
   "metadata": {},
   "outputs": [],
   "source": [
    "n_df = pandas.concat([pandas.DataFrame(v, index=numpy.repeat(k,len(v))) for k,v in df.sentences.to_dict().items()])"
   ]
  },
  {
   "cell_type": "code",
   "execution_count": null,
   "metadata": {},
   "outputs": [],
   "source": [
    "merged_df = pandas.concat([df, n_df], axis=1)"
   ]
  },
  {
   "cell_type": "code",
   "execution_count": null,
   "metadata": {},
   "outputs": [],
   "source": [
    "df = merged_df.drop([\"sentences\", \"position_in_thread\", \"thread_name\", \"text\"], axis=1)"
   ]
  },
  {
   "cell_type": "markdown",
   "metadata": {},
   "source": [
    "##### Find mentioned treatments, merge sentences, filter out sentences without treatment"
   ]
  },
  {
   "cell_type": "code",
   "execution_count": null,
   "metadata": {},
   "outputs": [],
   "source": [
    "df = df.apply(get_mapped_treatments, axis=1)"
   ]
  },
  {
   "cell_type": "code",
   "execution_count": null,
   "metadata": {},
   "outputs": [],
   "source": [
    "df = df.loc[df['treatments'].notnull()]"
   ]
  },
  {
   "cell_type": "code",
   "execution_count": null,
   "metadata": {},
   "outputs": [],
   "source": [
    "len(df.author_id.unique())"
   ]
  },
  {
   "cell_type": "code",
   "execution_count": null,
   "metadata": {},
   "outputs": [],
   "source": [
    "df = df.drop([0, 1, 2], axis=1)"
   ]
  },
  {
   "cell_type": "markdown",
   "metadata": {},
   "source": [
    "##### Tokenize sentences "
   ]
  },
  {
   "cell_type": "code",
   "execution_count": null,
   "metadata": {},
   "outputs": [],
   "source": [
    "df[\"tokens\"] = df[\"merged_sentence\"].apply(lambda x: tokenise(x))"
   ]
  },
  {
   "cell_type": "markdown",
   "metadata": {},
   "source": [
    "##### Get statistics on unique texts"
   ]
  },
  {
   "cell_type": "code",
   "execution_count": null,
   "metadata": {},
   "outputs": [],
   "source": [
    "unique_text_counts = df[\"tokens\"].groupby(df.tokens).count().sort_values(ascending=False).values"
   ]
  },
  {
   "cell_type": "code",
   "execution_count": null,
   "metadata": {
    "scrolled": true
   },
   "outputs": [],
   "source": [
    "unique_text_counts.mean()"
   ]
  },
  {
   "cell_type": "code",
   "execution_count": null,
   "metadata": {
    "scrolled": true
   },
   "outputs": [],
   "source": [
    "numpy.median(unique_text_counts)"
   ]
  },
  {
   "cell_type": "markdown",
   "metadata": {},
   "source": [
    "##### Store DF to CSV"
   ]
  },
  {
   "cell_type": "code",
   "execution_count": null,
   "metadata": {},
   "outputs": [],
   "source": [
    "df.to_csv(\"tt_with_treatments.csv\")"
   ]
  },
  {
   "cell_type": "markdown",
   "metadata": {},
   "source": [
    "##### Get treatment frequencies, store them"
   ]
  },
  {
   "cell_type": "code",
   "execution_count": null,
   "metadata": {
    "scrolled": false
   },
   "outputs": [],
   "source": [
    "treatment_counts = Counter()\n",
    "for elem in df[\"treatments\"]:\n",
    "    treatment_counts += Counter(elem)"
   ]
  },
  {
   "cell_type": "code",
   "execution_count": null,
   "metadata": {},
   "outputs": [],
   "source": [
    "treatment_counts.most_common()"
   ]
  },
  {
   "cell_type": "code",
   "execution_count": null,
   "metadata": {},
   "outputs": [],
   "source": [
    "with open(\"data/treatments_tt.json\", 'w') as fh:\n",
    "    json.dump(treatment_counts, fh)"
   ]
  }
 ],
 "metadata": {
  "kernelspec": {
   "display_name": "Python 3",
   "language": "python",
   "name": "python3"
  },
  "language_info": {
   "codemirror_mode": {
    "name": "ipython",
    "version": 3
   },
   "file_extension": ".py",
   "mimetype": "text/x-python",
   "name": "python",
   "nbconvert_exporter": "python",
   "pygments_lexer": "ipython3",
   "version": "3.5.2"
  }
 },
 "nbformat": 4,
 "nbformat_minor": 2
}
